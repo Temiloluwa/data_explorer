{
 "cells": [
  {
   "cell_type": "code",
   "execution_count": 3,
   "metadata": {},
   "outputs": [
    {
     "data": {
      "text/plain": [
       "'/Users/temmie/codes-and-scripts/projects/data_explorer/rag_research/parsers'"
      ]
     },
     "execution_count": 3,
     "metadata": {},
     "output_type": "execute_result"
    }
   ],
   "source": [
    "import os\n",
    "\n",
    "os.chdir(\"parsers\")\n",
    "os.getcwd()"
   ]
  },
  {
   "cell_type": "markdown",
   "metadata": {},
   "source": [
    "# Document Parsing"
   ]
  },
  {
   "cell_type": "code",
   "execution_count": 4,
   "metadata": {},
   "outputs": [],
   "source": [
    "from pipeline import process_documents"
   ]
  },
  {
   "cell_type": "code",
   "execution_count": 5,
   "metadata": {},
   "outputs": [],
   "source": [
    "source_identifier = \"/Users/temmie/codes-and-scripts/projects/data_explorer/data\"  \n",
    "level = \"basic\"              \n",
    "docs = await process_documents(source_identifier, level)"
   ]
  },
  {
   "cell_type": "code",
   "execution_count": 7,
   "metadata": {},
   "outputs": [
    {
     "data": {
      "text/plain": [
       "[Document(identifier=/Users/temmie/codes-and-scripts/projects/data_explorer/data/.DS_Store, source_type=file, content=''..., metadata={'size': 6148, 'modified_time': 1738330438.9293706, 'error': \"Text file processing error: 'utf-8' codec can't decode byte 0x80 in position 3131: invalid start byte\"}, subdocuments=0 subdocuments),\n",
       " Document(identifier=/Users/temmie/codes-and-scripts/projects/data_explorer/data/images/benjamin-chambon-SRXkNrlTalM-unsplash.jpg, source_type=file, content=''..., metadata={'size': 4272735, 'modified_time': 1740743845.2194884, 'error': \"Image basic processing error: tesseract is not installed or it's not in your PATH. See README file for more information.\"}, subdocuments=0 subdocuments),\n",
       " Document(identifier=/Users/temmie/codes-and-scripts/projects/data_explorer/data/images/veroll-sterling-0BSfl-SYtns-unsplash.jpg, source_type=file, content=''..., metadata={'size': 2352525, 'modified_time': 1740743829.575797, 'error': \"Image basic processing error: tesseract is not installed or it's not in your PATH. See README file for more information.\"}, subdocuments=0 subdocuments),\n",
       " Document(identifier=/Users/temmie/codes-and-scripts/projects/data_explorer/data/excel/PI Dates Estimate.xlsx, source_type=file, content='Column1 Column2 Column3 Column4\\nName of PIP PIP Start Date (Day of Week) IP Sprint Start Date (Day o'..., metadata={'size': 17767, 'modified_time': 1740397300.4018369}, subdocuments=2 subdocuments),\n",
       " Document(identifier=/Users/temmie/codes-and-scripts/projects/data_explorer/data/pdfs/.DS_Store, source_type=file, content=''..., metadata={'size': 6148, 'modified_time': 1738332445.3855486, 'error': \"Text file processing error: 'utf-8' codec can't decode byte 0x86 in position 23: invalid start byte\"}, subdocuments=0 subdocuments),\n",
       " Document(identifier=/Users/temmie/codes-and-scripts/projects/data_explorer/data/pdfs/well-intervention/JET_12_CTHandlingSpooling.pdf, source_type=file, content=' \\n                                                 Version 2.0 \\n \\n \\n \\n \\n \\n \\n \\n \\n \\n \\n \\n \\n \\n \\n \\n \\n \\n \\n'..., metadata={'size': 9895460, 'modified_time': 1718858778.791447}, subdocuments=119 subdocuments),\n",
       " Document(identifier=/Users/temmie/codes-and-scripts/projects/data_explorer/data/pdfs/well-intervention/JET_13_CT_PCE.pdf, source_type=file, content=' \\n                                                 Version 2.0 \\n \\n \\n \\n \\n \\n \\n \\n \\n \\n \\n \\n \\n \\n \\n \\n \\n \\n \\n'..., metadata={'size': 5416953, 'modified_time': 1718858778.8160784}, subdocuments=109 subdocuments),\n",
       " Document(identifier=/Users/temmie/codes-and-scripts/projects/data_explorer/data/pdfs/well-intervention/JET_16_IntroCT.pdf, source_type=file, content=' \\n                                                 Version 2.0 \\n \\n \\n \\n \\n \\n \\n \\n \\n \\n \\n \\n \\n \\n \\n \\n \\n \\n \\n'..., metadata={'size': 11400060, 'modified_time': 1718858778.8424675}, subdocuments=137 subdocuments),\n",
       " Document(identifier=/Users/temmie/codes-and-scripts/projects/data_explorer/data/pdfs/well-intervention/JET_36_CTDownholeTools.pdf, source_type=file, content=' \\n                                                 Version 2.0 \\n \\n \\n \\n \\n \\n \\n \\n \\n \\n \\n \\n \\n \\n \\n \\n \\n \\n \\n'..., metadata={'size': 12097431, 'modified_time': 1718858778.9004204}, subdocuments=217 subdocuments),\n",
       " Document(identifier=/Users/temmie/codes-and-scripts/projects/data_explorer/data/pdfs/well-intervention/JET_31_CTU.pdf, source_type=file, content=' \\n                                                 Version 2.0 \\n \\n \\n \\n \\n \\n \\n \\n \\n \\n \\n \\n \\n \\n \\n \\n \\n \\n \\n'..., metadata={'size': 12070900, 'modified_time': 1718858778.8689587}, subdocuments=156 subdocuments),\n",
       " Document(identifier=/Users/temmie/codes-and-scripts/projects/data_explorer/data/text/breast+cancer+wisconsin+diagnostic/wdbc.names, source_type=file, content='1. Title: Wisconsin Diagnostic Breast Cancer (WDBC)\\n\\n2. Source Information\\n\\na) Creators: \\n\\n\\tDr. Will'..., metadata={'size': 4708, 'modified_time': 1687316474.0}, subdocuments=0 subdocuments),\n",
       " Document(identifier=/Users/temmie/codes-and-scripts/projects/data_explorer/data/text/breast+cancer+wisconsin+diagnostic/wdbc.data, source_type=file, content='842302,M,17.99,10.38,122.8,1001,0.1184,0.2776,0.3001,0.1471,0.2419,0.07871,1.095,0.9053,8.589,153.4,'..., metadata={'size': 124103, 'modified_time': 1687316465.0}, subdocuments=0 subdocuments),\n",
       " Document(identifier=/Users/temmie/codes-and-scripts/projects/data_explorer/data/questions/well-intervention.yaml, source_type=file, content='questions:  \\n  - id: 4\\n    type: Factual Questions\\n    text: What is the main material used for manu'..., metadata={'size': 30370, 'modified_time': 1718858778.9010694}, subdocuments=0 subdocuments)]"
      ]
     },
     "execution_count": 7,
     "metadata": {},
     "output_type": "execute_result"
    }
   ],
   "source": [
    "docs"
   ]
  },
  {
   "cell_type": "code",
   "execution_count": 13,
   "metadata": {},
   "outputs": [
    {
     "data": {
      "text/plain": [
       "'Column1 Column2 Column3 Column4\\nName of PIP PIP Start Date (Day of Week) IP Sprint Start Date (Day of Week) IP Sprint End Date (Day of Week)\\nPIP21 February 26, 2025 (Wed) April 23, 2025 (Wed) May 6, 2025 (Tue)\\nPIP22 May 7, 2025 (Wed) July 2, 2025 (Wed) July 15, 2025 (Tue)\\nPIP23 July 16, 2025 (Wed) September 10, 2025 (Wed) September 23, 2025 (Tue)\\nPIP24 September 24, 2025 (Wed) November 19, 2025 (Wed) December 2, 2025 (Tue)\\nPIP25 December 3, 2025 (Wed) January 28, 2026 (Wed) February 10, 2026 (Tue)\\n'"
      ]
     },
     "execution_count": 13,
     "metadata": {},
     "output_type": "execute_result"
    }
   ],
   "source": [
    "docs[1].subdocuments[0].content"
   ]
  },
  {
   "cell_type": "code",
   "execution_count": null,
   "metadata": {},
   "outputs": [],
   "source": []
  }
 ],
 "metadata": {
  "kernelspec": {
   "display_name": ".research-env",
   "language": "python",
   "name": "python3"
  },
  "language_info": {
   "codemirror_mode": {
    "name": "ipython",
    "version": 3
   },
   "file_extension": ".py",
   "mimetype": "text/x-python",
   "name": "python",
   "nbconvert_exporter": "python",
   "pygments_lexer": "ipython3",
   "version": "3.12.4"
  }
 },
 "nbformat": 4,
 "nbformat_minor": 2
}

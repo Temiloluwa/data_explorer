{
 "cells": [
  {
   "cell_type": "markdown",
   "metadata": {},
   "source": [
    "# Exploring Langchain\n",
    "\n",
    "## 1. Structured Outputs\n",
    "\n",
    "\n",
    "#### A. Tool calling"
   ]
  },
  {
   "cell_type": "code",
   "execution_count": 1,
   "metadata": {},
   "outputs": [
    {
     "data": {
      "text/plain": [
       "AIMessage(content='', additional_kwargs={'tool_calls': [{'id': 'call_yy4YHYpoTR0NH83fVEBiOQhw', 'function': {'arguments': '{\"answer\": \"Nuclear fission is the process of splitting a heavy atomic nucleus into smaller nuclei, along with the release of energy. This process is commonly used in nuclear reactors and atomic bombs. In contrast, nuclear fusion is the process of combining two light atomic nuclei to form a heavier nucleus, which also releases energy. Fusion is the process that powers the sun and other stars.\\\\n\\\\nIn terms of ease, fission is currently easier to achieve and control with existing technology, as it has been extensively developed for power generation. Fusion, while it has the potential to provide a nearly limitless source of energy, is much more challenging to achieve and maintain under controlled conditions, as it requires extremely high temperatures and pressures to overcome the repulsive forces between the positively charged nuclei.\", \"followup_question\": \"What are the potential benefits of fusion energy?\"}', 'name': 'ResponseFormatter'}, 'type': 'function'}, {'id': 'call_XM2pwSfk5IPnANUZvWkar39Z', 'function': {'arguments': '{\"answer\": \"Fission is currently used in nuclear power plants, while fusion is still largely experimental. Fission reactors are well-established and can generate significant amounts of electricity. Fusion, on the other hand, has not yet been successfully harnessed for practical energy production, although research is ongoing.\", \"followup_question\": \"What are the challenges in achieving nuclear fusion?\"}', 'name': 'ResponseFormatter'}, 'type': 'function'}], 'refusal': None}, response_metadata={'token_usage': {'completion_tokens': 275, 'prompt_tokens': 88, 'total_tokens': 363, 'completion_tokens_details': {'accepted_prediction_tokens': 0, 'audio_tokens': 0, 'reasoning_tokens': 0, 'rejected_prediction_tokens': 0}, 'prompt_tokens_details': {'audio_tokens': 0, 'cached_tokens': 0}}, 'model_name': 'gpt-4o-mini-2024-07-18', 'system_fingerprint': 'fp_72ed7ab54c', 'finish_reason': 'tool_calls', 'logprobs': None}, id='run-b708e60e-c4af-4fe9-b9aa-38a317bfc179-0', tool_calls=[{'name': 'ResponseFormatter', 'args': {'answer': 'Nuclear fission is the process of splitting a heavy atomic nucleus into smaller nuclei, along with the release of energy. This process is commonly used in nuclear reactors and atomic bombs. In contrast, nuclear fusion is the process of combining two light atomic nuclei to form a heavier nucleus, which also releases energy. Fusion is the process that powers the sun and other stars.\\n\\nIn terms of ease, fission is currently easier to achieve and control with existing technology, as it has been extensively developed for power generation. Fusion, while it has the potential to provide a nearly limitless source of energy, is much more challenging to achieve and maintain under controlled conditions, as it requires extremely high temperatures and pressures to overcome the repulsive forces between the positively charged nuclei.', 'followup_question': 'What are the potential benefits of fusion energy?'}, 'id': 'call_yy4YHYpoTR0NH83fVEBiOQhw', 'type': 'tool_call'}, {'name': 'ResponseFormatter', 'args': {'answer': 'Fission is currently used in nuclear power plants, while fusion is still largely experimental. Fission reactors are well-established and can generate significant amounts of electricity. Fusion, on the other hand, has not yet been successfully harnessed for practical energy production, although research is ongoing.', 'followup_question': 'What are the challenges in achieving nuclear fusion?'}, 'id': 'call_XM2pwSfk5IPnANUZvWkar39Z', 'type': 'tool_call'}], usage_metadata={'input_tokens': 88, 'output_tokens': 275, 'total_tokens': 363, 'input_token_details': {'audio': 0, 'cache_read': 0}, 'output_token_details': {'audio': 0, 'reasoning': 0}})"
      ]
     },
     "execution_count": 1,
     "metadata": {},
     "output_type": "execute_result"
    }
   ],
   "source": [
    "from pydantic import BaseModel, Field\n",
    "class ResponseFormatter(BaseModel):\n",
    "    \"\"\"Always use this tool to structure your response to the user.\"\"\"\n",
    "    answer: str = Field(description=\"The answer to the user's question\")\n",
    "    followup_question: str = Field(description=\"A followup question the user could ask\")\n",
    "\n",
    "\n",
    "from langchain_openai import ChatOpenAI\n",
    "model = ChatOpenAI(model=\"gpt-4o-mini\", temperature=0)\n",
    "model_with_tools = model.bind_tools([ResponseFormatter])\n",
    "\n",
    "ai_msg = model_with_tools.invoke(\"What's the difference between fussion and fission in nuclear energy and which is easier\")\n",
    "ai_msg\n"
   ]
  },
  {
   "cell_type": "code",
   "execution_count": 6,
   "metadata": {},
   "outputs": [
    {
     "data": {
      "text/plain": [
       "{'answer': 'Fission is currently used in nuclear power plants, while fusion is still largely experimental. Fission reactors are well-established and can generate significant amounts of electricity. Fusion, on the other hand, has not yet been successfully harnessed for practical energy production, although research is ongoing.',\n",
       " 'followup_question': 'What are the challenges in achieving nuclear fusion?'}"
      ]
     },
     "execution_count": 6,
     "metadata": {},
     "output_type": "execute_result"
    }
   ],
   "source": [
    "ai_msg.tool_calls[1][\"args\"]"
   ]
  },
  {
   "cell_type": "markdown",
   "metadata": {},
   "source": [
    "#### B. Json Mode"
   ]
  },
  {
   "cell_type": "code",
   "execution_count": 12,
   "metadata": {},
   "outputs": [
    {
     "data": {
      "text/plain": [
       "{'methods': [{'method': 'Nuclear Fission',\n",
       "   'examples': ['Pressurized Water Reactors (PWR)',\n",
       "    'Boiling Water Reactors (BWR)',\n",
       "    'Gas-Cooled Reactors (GCR)',\n",
       "    'Fast Neutron Reactors (FNR)']},\n",
       "  {'method': 'Nuclear Fusion',\n",
       "   'examples': ['Tokamak Reactors',\n",
       "    'Stellarators',\n",
       "    'Inertial Confinement Fusion (ICF)',\n",
       "    'Magnetized Target Fusion (MTF)']},\n",
       "  {'method': 'Radioisotope Thermoelectric Generators (RTGs)',\n",
       "   'examples': ['Power sources for space probes like Voyager and Curiosity',\n",
       "    'Radioisotope heating units in remote applications',\n",
       "    'Emergency power supplies in remote locations']},\n",
       "  {'method': 'Nuclear Radiation Heating',\n",
       "   'examples': ['Use of waste heat from reactor cores for district heating',\n",
       "    'Heat exchange systems in molten salt reactors',\n",
       "    'Research into nuclear heating for industrial processes']}]}"
      ]
     },
     "execution_count": 12,
     "metadata": {},
     "output_type": "execute_result"
    }
   ],
   "source": [
    "from langchain_openai import ChatOpenAI\n",
    "import json\n",
    "model = ChatOpenAI(model=\"gpt-4o-mini\", model_kwargs={ \"response_format\": { \"type\": \"json_object\" } })\n",
    "ai_msg = model.invoke(\"Return a JSON object with the format [{'method': <answer>, 'examples': <exeamples>},] explain methods of nuclear energy generation \")\n",
    "json.loads(ai_msg.content)"
   ]
  },
  {
   "cell_type": "markdown",
   "metadata": {},
   "source": [
    "#### C. Structured Outputs and formatter"
   ]
  },
  {
   "cell_type": "code",
   "execution_count": 2,
   "metadata": {},
   "outputs": [],
   "source": [
    "from pydantic import BaseModel, Field\n",
    "\n",
    "class QueryFormatter(BaseModel):\n",
    "    simple_queries: list[str] = Field(description=\"what simple questions could the user potentially want to ask?\")\n",
    "    advanced_queries: list[str] = Field(description=\"what advanced questions could the user potentially want to ask?\")\n",
    "\n",
    "class ResponseFormatter(BaseModel):\n",
    "    feedback: str = Field(description=\"response to the query\")\n",
    "    further_queries: QueryFormatter = Field(default_factory=QueryFormatter)"
   ]
  },
  {
   "cell_type": "code",
   "execution_count": 30,
   "metadata": {},
   "outputs": [],
   "source": [
    "# Bind the schema to the model\n",
    "model = ChatOpenAI(model=\"gpt-4o-mini\", temperature=0)\n",
    "model_with_structure = model.with_structured_output(ResponseFormatter)\n",
    "# Invoke the model\n",
    "structured_output = model_with_structure.invoke(\"How is power generated using nuclear energy\")\n"
   ]
  },
  {
   "cell_type": "code",
   "execution_count": 31,
   "metadata": {},
   "outputs": [
    {
     "name": "stdout",
     "output_type": "stream",
     "text": [
      "Response: Nuclear energy is generated through a process called nuclear fission, where the nucleus of an atom, typically uranium-235 or plutonium-239, is split into smaller parts when it absorbs a neutron. This splitting releases a significant amount of energy in the form of heat. Here’s a step-by-step breakdown of how power is generated using nuclear energy:\n",
      "\n",
      "1. **Nuclear Reactor**: The process takes place in a nuclear reactor, which contains fuel rods made of uranium or plutonium.\n",
      "\n",
      "2. **Fission Reaction**: When a neutron collides with the nucleus of a fissile atom, it causes the nucleus to split, releasing energy, more neutrons, and fission products.\n",
      "\n",
      "3. **Chain Reaction**: The released neutrons can then collide with other fissile nuclei, causing them to split as well, leading to a chain reaction. This reaction is carefully controlled in a reactor to maintain a steady output of energy.\n",
      "\n",
      "4. **Heat Generation**: The energy released from fission heats up the reactor coolant, usually water, which circulates through the reactor core.\n",
      "\n",
      "5. **Steam Production**: The heated coolant is then used to produce steam in a secondary loop. In some reactors, the coolant itself is turned into steam.\n",
      "\n",
      "6. **Turbine and Generator**: The steam drives a turbine connected to a generator, converting the thermal energy into mechanical energy, which is then converted into electrical energy.\n",
      "\n",
      "7. **Cooling System**: After passing through the turbine, the steam is cooled back into water in a condenser and returned to the reactor to be reheated, continuing the cycle.\n",
      "\n",
      "8. **Containment**: The entire process is contained within a robust structure to prevent the release of radioactive materials into the environment.\n"
     ]
    }
   ],
   "source": [
    "print(f\"Response: {structured_output.feedback}\")"
   ]
  },
  {
   "cell_type": "code",
   "execution_count": 32,
   "metadata": {},
   "outputs": [
    {
     "name": "stdout",
     "output_type": "stream",
     "text": [
      "Simple Queries: \n",
      " ['What is nuclear fission?', 'What materials are used in nuclear reactors?', 'How does a nuclear reactor work?', 'What are the safety measures in nuclear power plants?', 'What are the advantages of nuclear energy?']\n"
     ]
    }
   ],
   "source": [
    "print(f\"Simple Queries: \\n {structured_output.further_queries.simple_queries}\")"
   ]
  },
  {
   "cell_type": "code",
   "execution_count": 34,
   "metadata": {},
   "outputs": [
    {
     "name": "stdout",
     "output_type": "stream",
     "text": [
      "Advanced Queries: \n",
      " ['What are the differences between nuclear fission and fusion?', 'How is waste from nuclear power plants managed?', 'What are the environmental impacts of nuclear energy?', 'How do different types of nuclear reactors compare in efficiency?', 'What advancements are being made in nuclear technology?']\n"
     ]
    }
   ],
   "source": [
    "print(f\"Advanced Queries: \\n {structured_output.further_queries.advanced_queries}\")"
   ]
  },
  {
   "cell_type": "code",
   "execution_count": 7,
   "metadata": {},
   "outputs": [],
   "source": [
    "from langchain_openai import ChatOpenAI\n",
    "\n",
    "model = ChatOpenAI(model=\"gpt-4o-mini\", temperature=0)\n",
    "model_with_structure = model.with_structured_output(ResponseFormatter)\n",
    "\n",
    "a_structured_output = await model_with_structure.ainvoke(\"How is power generated using nuclear energy\")"
   ]
  },
  {
   "cell_type": "code",
   "execution_count": 10,
   "metadata": {},
   "outputs": [
    {
     "name": "stdout",
     "output_type": "stream",
     "text": [
      "Power generation using nuclear energy primarily involves the process of nuclear fission. In a nuclear reactor, heavy atomic nuclei, such as uranium-235 or plutonium-239, are split into smaller nuclei when they absorb a neutron. This fission process releases a significant amount of energy in the form of heat. Here’s a step-by-step breakdown of how this energy is converted into electricity:\n",
      "\n",
      "1. **Nuclear Fission**: In the reactor core, fuel rods containing uranium or plutonium are bombarded with neutrons, causing the nuclei to split and release energy.\n",
      "\n",
      "2. **Heat Generation**: The energy released from fission heats up the reactor coolant, usually water, which circulates through the reactor core.\n",
      "\n",
      "3. **Steam Production**: The heated coolant is then used to produce steam in a secondary loop. In some designs, the coolant itself is turned into steam.\n",
      "\n",
      "4. **Turbine Activation**: The steam generated is directed to a turbine, causing it to spin. This mechanical energy is crucial for the next step.\n",
      "\n",
      "5. **Electricity Generation**: The spinning turbine is connected to a generator. As the turbine spins, it turns the generator, converting mechanical energy into electrical energy.\n",
      "\n",
      "6. **Cooling System**: After passing through the turbine, the steam is cooled back into water in a condenser and returned to the reactor to be reheated, continuing the cycle.\n",
      "\n",
      "7. **Control Systems**: Control rods made of materials that absorb neutrons are used to regulate the fission process, ensuring that the reaction remains stable and safe.\n",
      "\n",
      "Overall, nuclear power plants are designed to harness the immense energy released from nuclear fission to produce electricity efficiently and with low greenhouse gas emissions during operation.\n"
     ]
    }
   ],
   "source": [
    "print(a_structured_output.feedback)"
   ]
  },
  {
   "cell_type": "code",
   "execution_count": 11,
   "metadata": {},
   "outputs": [
    {
     "name": "stdout",
     "output_type": "stream",
     "text": [
      "Simple Queries: \n",
      " ['What is nuclear fission?', 'How does a nuclear reactor work?', 'What are the advantages of nuclear energy?', 'What are the risks of nuclear power?', 'How is nuclear waste managed?']\n"
     ]
    }
   ],
   "source": [
    "print(f\"Simple Queries: \\n {a_structured_output.further_queries.simple_queries}\")"
   ]
  },
  {
   "cell_type": "code",
   "execution_count": 12,
   "metadata": {},
   "outputs": [
    {
     "name": "stdout",
     "output_type": "stream",
     "text": [
      "Advanced Queries: \n",
      " ['What are the differences between nuclear fission and fusion?', 'How do different types of nuclear reactors compare in efficiency?', 'What safety measures are in place in nuclear power plants?', 'How does the nuclear fuel cycle work?', 'What are the environmental impacts of nuclear energy?']\n"
     ]
    }
   ],
   "source": [
    "print(f\"Advanced Queries: \\n {a_structured_output.further_queries.advanced_queries}\")"
   ]
  },
  {
   "cell_type": "code",
   "execution_count": null,
   "metadata": {},
   "outputs": [],
   "source": []
  }
 ],
 "metadata": {
  "kernelspec": {
   "display_name": ".research-env",
   "language": "python",
   "name": "python3"
  },
  "language_info": {
   "codemirror_mode": {
    "name": "ipython",
    "version": 3
   },
   "file_extension": ".py",
   "mimetype": "text/x-python",
   "name": "python",
   "nbconvert_exporter": "python",
   "pygments_lexer": "ipython3",
   "version": "3.12.4"
  }
 },
 "nbformat": 4,
 "nbformat_minor": 2
}
